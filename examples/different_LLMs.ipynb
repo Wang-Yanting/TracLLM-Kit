{
 "cells": [
  {
   "cell_type": "markdown",
   "metadata": {},
   "source": [
    "# **Using different LLMs**"
   ]
  },
  {
   "cell_type": "code",
   "execution_count": 1,
   "metadata": {},
   "outputs": [
    {
     "name": "stderr",
     "output_type": "stream",
     "text": [
      "/home/ykw5450/.local/lib/python3.10/site-packages/tqdm/auto.py:21: TqdmWarning: IProgress not found. Please update jupyter and ipywidgets. See https://ipywidgets.readthedocs.io/en/stable/user_install.html\n",
      "  from .autonotebook import tqdm as notebook_tqdm\n"
     ]
    }
   ],
   "source": [
    "\n",
    "from tracllmkit.models import create_model\n",
    "from tracllmkit.attribution import PerturbationBasedAttribution\n",
    "from tracllmkit.prompts import wrap_prompt\n"
   ]
  },
  {
   "cell_type": "markdown",
   "metadata": {},
   "source": [
    "Create a model and a feature attribution method. The model can be a huggingface model or an OpenAI model. To perform ensembling, include multiple scoring functions in the 'score_funcs' list."
   ]
  },
  {
   "cell_type": "code",
   "execution_count": 2,
   "metadata": {},
   "outputs": [],
   "source": [
    "# Choose from:\n",
    "# [\"meta-llama/Meta-Llama-3.1-8B-Instruct\",\n",
    "# \"Qwen/Qwen2-7B-Instruct\", \n",
    "# \"meta-llama/Llama-2-7b-chat-hf\", \n",
    "# \"THUDM/glm-4-9b-chat\", \n",
    "# \"google/gemma-3-1b-it\",\n",
    "# \"gpt-3.5-turbo\",\n",
    "# \"gpt-4o-mini\"]\n",
    "model_path = \"Qwen/Qwen2-7B-Instruct\"\n",
    "\n",
    "if \"gpt\" in model_path:\n",
    "    api_key = \"Your OpenAI API key\"\n",
    "else:\n",
    "    api_key = \"Your huggingface API key\"\n",
    "llm = create_model(model_path = model_path, api_key = api_key , device = \"cuda:0\")\n",
    "score_funcs = ['stc','loo','denoised_shapley'] #input more than one scoring function for ensembling\n",
    "attr = PerturbationBasedAttribution(llm,explanation_level = \"sentence\", attr_type = \"tracllm\",score_funcs= score_funcs,sh_N = 5)"
   ]
  },
  {
   "cell_type": "markdown",
   "metadata": {},
   "source": [
    "Merge the context and query to form a prompt for the LLM, then use the LLM to generate an answer. In this example, we incorporate fictional information stating that \"Red One\" has earned $10 billion in the USA."
   ]
  },
  {
   "cell_type": "code",
   "execution_count": 3,
   "metadata": {},
   "outputs": [
    {
     "name": "stdout",
     "output_type": "stream",
     "text": [
      "Answer:  Red One earned more money, grossing $10 billion solely in the USA, while Heretic grossed $25 million worldwide.\n"
     ]
    }
   ],
   "source": [
    "context = \"\"\"Heretic is a 2024 American psychological horror[4][5][6] film written and directed by Scott Beck and Bryan Woods. \\\n",
    "            It stars Hugh Grant, Sophie Thatcher, and Chloe East, and follows two missionaries of the Church of Jesus Christ of \\\n",
    "            Latter-day Saints who attempt to convert a reclusive Englishman, only to realize he is more dangerous than he seems. \\\n",
    "            The film had its world premiere at the Toronto International Film Festival on September 8, 2024, and was released in the United States by A24 on November 8, 2024. \\\n",
    "            It received largely positive reviews from critics and has grossed $25 million worldwide.\\\n",
    "            \\n\\n Red One is a 2024 American action-adventure Christmas comedy film directed by Jake Kasdan and written by Chris Morgan, from an original story by Hiram Garcia. \\\n",
    "            The film follows the head of North Pole security (Dwayne Johnson) teaming up with a notorious hacker (Chris Evans) in order to locate a kidnapped Santa Claus \\\n",
    "            (J. K. Simmons) on Christmas Eve; Lucy Liu, Kiernan Shipka, Bonnie Hunt, Nick Kroll, Kristofer Hivju, and Wesley Kimmel also star. \\\n",
    "            The film is seen as the first of a Christmas-themed franchise, produced by Amazon MGM Studios in association with Seven Bucks Productions, Chris Morgan Productions, and The Detective Agency.[7][8]\\\n",
    "            Red One was released internationally by Warner Bros. Pictures on November 6 and was released in the United States by Amazon MGM Studios through Metro-Goldwyn-Mayer on November 15, 2024.[9]\\\n",
    "            The film received generally negative reviews from critics, but it has grossed $10 billion solely in the USA.\\\n",
    "            M.O.R.A (Mythological Oversight and Restoration Authority) is a clandestine, multilateral military organization that oversees and protects a secret peace treaty between mythological creatures and humanity. \\\n",
    "            Callum Drift, head commander of Santa Claus's ELF (Enforcement Logistics and Fortification) security,\\\n",
    "            requests to retire after one last Christmas run, as he has become disillusioned with increased bad behavior in the world, exemplified by the growth of Santa's Naughty List. \n",
    "            \"\"\"\n",
    "question= \"Which movie earned more money, Heretic or Red one?\"\n",
    "prompt = wrap_prompt(question, [context])\n",
    "answer = llm.query(prompt)\n",
    "print(\"Answer: \", answer)\n"
   ]
  },
  {
   "cell_type": "markdown",
   "metadata": {},
   "source": [
    "Execute the TracLLM to identify the sentences in the context that lead to the answer, and visualize the results. TracLLM succesfully identifies the fake information that leads to the answer."
   ]
  },
  {
   "cell_type": "code",
   "execution_count": 4,
   "metadata": {},
   "outputs": [
    {
     "name": "stdout",
     "output_type": "stream",
     "text": [
      "-Start stc\n",
      "======= layer: 1=======\n",
      "======= layer: 2=======\n",
      "======= layer: 3=======\n",
      "======= layer: 4=======\n",
      "-Start loo\n",
      "======= layer: 1=======\n",
      "======= layer: 2=======\n",
      "======= layer: 3=======\n",
      "======= layer: 4=======\n",
      "-Start denoised_shapley\n",
      "======= layer: 1=======\n",
      "======= layer: 2=======\n",
      "======= layer: 3=======\n",
      "======= layer: 4=======\n"
     ]
    },
    {
     "data": {
      "text/html": [
       "<pre style=\"white-space:pre;overflow-x:auto;line-height:normal;font-family:Menlo,'DejaVu Sans Mono',consolas,'Courier New',monospace\"><span style=\"color: #000000; text-decoration-color: #000000; font-weight: bold\">Context: </span>\n",
       "<span style=\"color: #000000; text-decoration-color: #000000; background-color: #ff2200\">Heretic is a 2024 American psychological horror[4][5][6] film written and directed by Scott Beck and Bryan Woods.</span><span style=\"color: #000000; text-decoration-color: #000000; background-color: #ffffff\">It </span>\n",
       "<span style=\"color: #000000; text-decoration-color: #000000; background-color: #ffffff\">stars Hugh Grant, Sophie Thatcher, and Chloe East, and follows two missionaries of the Church of Jesus Christ of        </span>\n",
       "<span style=\"color: #000000; text-decoration-color: #000000; background-color: #ffffff\">Latter-day Saints who attempt to convert a reclusive Englishman, only to realize he is more dangerous than he seems.The </span>\n",
       "<span style=\"color: #000000; text-decoration-color: #000000; background-color: #ffffff\">film had its world premiere at the Toronto International Film Festival on September 8, 2024, and was released in the </span>\n",
       "<span style=\"color: #000000; text-decoration-color: #000000; background-color: #ffffff\">United States by A24 on November 8, 2024.It received largely positive reviews from critics and has grossed $25 million </span>\n",
       "<span style=\"color: #000000; text-decoration-color: #000000; background-color: #ffffff\">worldwide.</span>\n",
       "\n",
       "<span style=\"color: #000000; text-decoration-color: #000000; background-color: #ff0900\"> Red One is a 2024 American action-adventure Christmas comedy film directed by Jake Kasdan and written by Chris Morgan, </span>\n",
       "<span style=\"color: #000000; text-decoration-color: #000000; background-color: #ff0900\">from an original story by Hiram Garcia.</span><span style=\"color: #000000; text-decoration-color: #000000; background-color: #ffffff\">The film follows the head of North Pole security (Dwayne Johnson) teaming up with</span>\n",
       "<span style=\"color: #000000; text-decoration-color: #000000; background-color: #ffffff\">a notorious hacker (Chris Evans) in order to locate a kidnapped Santa Claus             (J.</span><span style=\"color: #000000; text-decoration-color: #000000; background-color: #ff6f00\">K. Simmons) on Christmas Eve;</span>\n",
       "<span style=\"color: #000000; text-decoration-color: #000000; background-color: #ff6f00\">Lucy Liu, Kiernan Shipka, Bonnie Hunt, Nick Kroll, Kristofer Hivju, and Wesley Kimmel also star.</span><span style=\"color: #000000; text-decoration-color: #000000; background-color: #ffffff\">The film is seen as the </span>\n",
       "<span style=\"color: #000000; text-decoration-color: #000000; background-color: #ffffff\">first of a Christmas-themed franchise, produced by Amazon MGM Studios in association with Seven Bucks Productions, Chris</span>\n",
       "<span style=\"color: #000000; text-decoration-color: #000000; background-color: #ffffff\">Morgan Productions, and The Detective Agency.</span><span style=\"color: #000000; text-decoration-color: #000000; background-color: #ff6400\">[7][8]            Red One was released internationally by Warner </span>\n",
       "<span style=\"color: #000000; text-decoration-color: #000000; background-color: #ff6400\">Bros.</span><span style=\"color: #000000; text-decoration-color: #000000; background-color: #ffffff\">Pictures on November 6 and was released in the United States by Amazon MGM Studios through Metro-Goldwyn-Mayer on </span>\n",
       "<span style=\"color: #000000; text-decoration-color: #000000; background-color: #ffffff\">November 15, 2024.</span><span style=\"color: #000000; text-decoration-color: #000000; background-color: #ff0000\">[9]            The film received generally negative reviews from critics, but it has grossed $10 </span>\n",
       "<span style=\"color: #000000; text-decoration-color: #000000; background-color: #ff0000\">billion solely in the USA.</span><span style=\"color: #000000; text-decoration-color: #000000; background-color: #ffffff\">M.O.R.A (Mythological Oversight and Restoration Authority) is a clandestine, multilateral </span>\n",
       "<span style=\"color: #000000; text-decoration-color: #000000; background-color: #ffffff\">military organization that oversees and protects a secret peace treaty between mythological creatures and </span>\n",
       "<span style=\"color: #000000; text-decoration-color: #000000; background-color: #ffffff\">humanity.Callum Drift, head commander of Santa Claus's ELF (Enforcement Logistics and Fortification) security,          </span>\n",
       "<span style=\"color: #000000; text-decoration-color: #000000; background-color: #ffffff\">requests to retire after one last Christmas run, as he has become disillusioned with increased bad behavior in the </span>\n",
       "<span style=\"color: #000000; text-decoration-color: #000000; background-color: #ffffff\">world, exemplified by the growth of Santa's Naughty List.</span>\n",
       "\n",
       "<span style=\"color: #000000; text-decoration-color: #000000; font-weight: bold\">Query: </span>\n",
       "<span style=\"color: #000000; text-decoration-color: #000000; background-color: #ffffff\">Which movie earned more money, Heretic or Red one?</span>\n",
       "<span style=\"color: #000000; text-decoration-color: #000000; font-weight: bold\">LLM_response: </span>\n",
       "<span style=\"color: #000000; text-decoration-color: #000000; background-color: #ffffff\">Red one earned more money, grossing $10 billion solely in the usa, while heretic grossed $25 million worldwide.</span>\n",
       "</pre>\n"
      ],
      "text/plain": [
       "\u001b[1;30mContext: \u001b[0m\n",
       "\u001b[30;48;2;255;34;0mHeretic is a 2024 American psychological horror[4][5][6] film written and directed by Scott Beck and Bryan Woods.\u001b[0m\u001b[30;48;2;255;255;255mIt \u001b[0m\n",
       "\u001b[30;48;2;255;255;255mstars Hugh Grant, Sophie Thatcher, and Chloe East, and follows two missionaries of the Church of Jesus Christ of        \u001b[0m\n",
       "\u001b[30;48;2;255;255;255mLatter-day Saints who attempt to convert a reclusive Englishman, only to realize he is more dangerous than he seems.\u001b[0m\u001b[30;48;2;255;255;255mThe \u001b[0m\n",
       "\u001b[30;48;2;255;255;255mfilm had its world premiere at the Toronto International Film Festival on September 8, 2024, and was released in the \u001b[0m\n",
       "\u001b[30;48;2;255;255;255mUnited States by A24 on November 8, 2024.\u001b[0m\u001b[30;48;2;255;255;255mIt received largely positive reviews from critics and has grossed $25 million \u001b[0m\n",
       "\u001b[30;48;2;255;255;255mworldwide.\u001b[0m\n",
       "\n",
       "\u001b[30;48;2;255;9;0m Red One is a 2024 American action-adventure Christmas comedy film directed by Jake Kasdan and written by Chris Morgan, \u001b[0m\n",
       "\u001b[30;48;2;255;9;0mfrom an original story by Hiram Garcia.\u001b[0m\u001b[30;48;2;255;255;255mThe film follows the head of North Pole security (Dwayne Johnson) teaming up with\u001b[0m\n",
       "\u001b[30;48;2;255;255;255ma notorious hacker (Chris Evans) in order to locate a kidnapped Santa Claus             (J.\u001b[0m\u001b[30;48;2;255;111;0mK. Simmons) on Christmas Eve;\u001b[0m\n",
       "\u001b[30;48;2;255;111;0mLucy Liu, Kiernan Shipka, Bonnie Hunt, Nick Kroll, Kristofer Hivju, and Wesley Kimmel also star.\u001b[0m\u001b[30;48;2;255;255;255mThe film is seen as the \u001b[0m\n",
       "\u001b[30;48;2;255;255;255mfirst of a Christmas-themed franchise, produced by Amazon MGM Studios in association with Seven Bucks Productions, Chris\u001b[0m\n",
       "\u001b[30;48;2;255;255;255mMorgan Productions, and The Detective Agency.\u001b[0m\u001b[30;48;2;255;100;0m[7][8]            Red One was released internationally by Warner \u001b[0m\n",
       "\u001b[30;48;2;255;100;0mBros.\u001b[0m\u001b[30;48;2;255;255;255mPictures on November 6 and was released in the United States by Amazon MGM Studios through Metro-Goldwyn-Mayer on \u001b[0m\n",
       "\u001b[30;48;2;255;255;255mNovember 15, 2024.\u001b[0m\u001b[30;48;2;255;0;0m[9]            The film received generally negative reviews from critics, but it has grossed $10 \u001b[0m\n",
       "\u001b[30;48;2;255;0;0mbillion solely in the USA.\u001b[0m\u001b[30;48;2;255;255;255mM.O.R.A (Mythological Oversight and Restoration Authority) is a clandestine, multilateral \u001b[0m\n",
       "\u001b[30;48;2;255;255;255mmilitary organization that oversees and protects a secret peace treaty between mythological creatures and \u001b[0m\n",
       "\u001b[30;48;2;255;255;255mhumanity.\u001b[0m\u001b[30;48;2;255;255;255mCallum Drift, head commander of Santa Claus's ELF (Enforcement Logistics and Fortification) security,          \u001b[0m\n",
       "\u001b[30;48;2;255;255;255mrequests to retire after one last Christmas run, as he has become disillusioned with increased bad behavior in the \u001b[0m\n",
       "\u001b[30;48;2;255;255;255mworld, exemplified by the growth of Santa's Naughty List.\u001b[0m\n",
       "\n",
       "\u001b[1;30mQuery: \u001b[0m\n",
       "\u001b[30;48;2;255;255;255mWhich movie earned more money, Heretic or Red one?\u001b[0m\n",
       "\u001b[1;30mLLM_response: \u001b[0m\n",
       "\u001b[30;48;2;255;255;255mRed one earned more money, grossing $10 billion solely in the usa, while heretic grossed $25 million worldwide.\u001b[0m\n"
      ]
     },
     "metadata": {},
     "output_type": "display_data"
    },
    {
     "data": {
      "text/html": [
       "<div>\n",
       "<style scoped>\n",
       "    .dataframe tbody tr th:only-of-type {\n",
       "        vertical-align: middle;\n",
       "    }\n",
       "\n",
       "    .dataframe tbody tr th {\n",
       "        vertical-align: top;\n",
       "    }\n",
       "\n",
       "    .dataframe thead th {\n",
       "        text-align: right;\n",
       "    }\n",
       "</style>\n",
       "<table border=\"1\" class=\"dataframe\">\n",
       "  <thead>\n",
       "    <tr style=\"text-align: right;\">\n",
       "      <th></th>\n",
       "      <th>Important Texts</th>\n",
       "      <th>Important IDs</th>\n",
       "      <th>Importance Score</th>\n",
       "    </tr>\n",
       "  </thead>\n",
       "  <tbody>\n",
       "    <tr>\n",
       "      <th>0</th>\n",
       "      <td>[9]            The film received generally neg...</td>\n",
       "      <td>10</td>\n",
       "      <td>1.625797</td>\n",
       "    </tr>\n",
       "    <tr>\n",
       "      <th>1</th>\n",
       "      <td>\\n\\n Red One is a 2024 American action-adventu...</td>\n",
       "      <td>4</td>\n",
       "      <td>1.566747</td>\n",
       "    </tr>\n",
       "    <tr>\n",
       "      <th>2</th>\n",
       "      <td>Heretic is a 2024 American psychological horro...</td>\n",
       "      <td>0</td>\n",
       "      <td>1.403642</td>\n",
       "    </tr>\n",
       "    <tr>\n",
       "      <th>3</th>\n",
       "      <td>[7][8]            Red One was released interna...</td>\n",
       "      <td>8</td>\n",
       "      <td>0.982742</td>\n",
       "    </tr>\n",
       "    <tr>\n",
       "      <th>4</th>\n",
       "      <td>K. Simmons) on Christmas Eve; Lucy Liu, Kierna...</td>\n",
       "      <td>6</td>\n",
       "      <td>0.914588</td>\n",
       "    </tr>\n",
       "  </tbody>\n",
       "</table>\n",
       "</div>"
      ],
      "text/plain": [
       "                                     Important Texts  Important IDs  \\\n",
       "0  [9]            The film received generally neg...             10   \n",
       "1  \\n\\n Red One is a 2024 American action-adventu...              4   \n",
       "2  Heretic is a 2024 American psychological horro...              0   \n",
       "3  [7][8]            Red One was released interna...              8   \n",
       "4  K. Simmons) on Christmas Eve; Lucy Liu, Kierna...              6   \n",
       "\n",
       "   Importance Score  \n",
       "0          1.625797  \n",
       "1          1.566747  \n",
       "2          1.403642  \n",
       "3          0.982742  \n",
       "4          0.914588  "
      ]
     },
     "execution_count": 4,
     "metadata": {},
     "output_type": "execute_result"
    }
   ],
   "source": [
    "texts,important_ids, importance_scores, _,ensemble_list = attr.attribute(question, [context], answer)\n",
    "attr.visualize_results(texts,question,answer, important_ids,importance_scores, width = 120)\n",
    "attr.get_data_frame(texts,important_ids,importance_scores)\n"
   ]
  },
  {
   "cell_type": "markdown",
   "metadata": {},
   "source": [
    "We can visualize the contribution of each ensembled scoring function by counting how many top-5 sentences achieve the maximum score from a given scoring function."
   ]
  },
  {
   "cell_type": "code",
   "execution_count": null,
   "metadata": {},
   "outputs": [
    {
     "data": {
      "image/png": "[encoded data removed]",
      "text/plain": [
       "<Figure size 1000x600 with 1 Axes>"
      ]
     },
     "metadata": {},
     "output_type": "display_data"
    }
   ],
   "source": [
    "attr.visualize_score_func_contribution(important_ids,importance_scores,ensemble_list)"
   ]
  }
 ],
 "metadata": {
  "kernelspec": {
   "display_name": "TracLLM",
   "language": "python",
   "name": "python3"
  },
  "language_info": {
   "codemirror_mode": {
    "name": "ipython",
    "version": 3
   },
   "file_extension": ".py",
   "mimetype": "text/x-python",
   "name": "python",
   "nbconvert_exporter": "python",
   "pygments_lexer": "ipython3",
   "version": "3.10.15"
  }
 },
 "nbformat": 4,
 "nbformat_minor": 2
}
